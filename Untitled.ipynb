{
 "cells": [
  {
   "cell_type": "code",
   "execution_count": 7,
   "metadata": {},
   "outputs": [
    {
     "name": "stdout",
     "output_type": "stream",
     "text": [
      "defaultdict(<class 'int'>, {'W': 2, 'D': 2, 'L': 3})\n",
      "WWDDLLL\n"
     ]
    }
   ],
   "source": [
    "# \"WDLWDLL\" -> \"WWDDLLL\"\n",
    "from collections import defaultdict\n",
    "\n",
    "def fun(s):\n",
    "    if not s:\n",
    "        return ''\n",
    "    char_cnt = defaultdict(int)\n",
    "    res = ''\n",
    "    for i, char in enumerate(s):\n",
    "        char_cnt[char] += 1\n",
    "    print(char_cnt)\n",
    "    for k, v in char_cnt.items():\n",
    "        res += k*v\n",
    "    return res\n",
    "    \n",
    "s = \"WDLWDLL\"\n",
    "print(fun(s))"
   ]
  },
  {
   "cell_type": "code",
   "execution_count": 34,
   "metadata": {},
   "outputs": [
    {
     "data": {
      "text/plain": [
       "{'K': 1, 'M': {}}"
      ]
     },
     "execution_count": 34,
     "metadata": {},
     "output_type": "execute_result"
    }
   ],
   "source": [
    "l = {'K':1}\n",
    "l.setdefault('M', {})\n",
    "l.setdefault('K', {})\n",
    "l"
   ]
  },
  {
   "cell_type": "code",
   "execution_count": 18,
   "metadata": {},
   "outputs": [
    {
     "name": "stdout",
     "output_type": "stream",
     "text": [
      "a 140588244885584\n",
      "b 140588244885584\n",
      "c 140588244885664\n"
     ]
    }
   ],
   "source": [
    "a = {}\n",
    "b = a\n",
    "c = dict(a)\n",
    "print('a',id(a))\n",
    "print('b', id(b))\n",
    "print('c',id(c))"
   ]
  },
  {
   "cell_type": "code",
   "execution_count": null,
   "metadata": {},
   "outputs": [],
   "source": []
  }
 ],
 "metadata": {
  "kernelspec": {
   "display_name": "Python 3",
   "language": "python",
   "name": "python3"
  },
  "language_info": {
   "codemirror_mode": {
    "name": "ipython",
    "version": 3
   },
   "file_extension": ".py",
   "mimetype": "text/x-python",
   "name": "python",
   "nbconvert_exporter": "python",
   "pygments_lexer": "ipython3",
   "version": "3.7.6"
  }
 },
 "nbformat": 4,
 "nbformat_minor": 4
}
